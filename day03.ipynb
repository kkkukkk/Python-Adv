{
 "cells": [
  {
   "cell_type": "code",
   "execution_count": 4,
   "id": "aa89751e",
   "metadata": {},
   "outputs": [
    {
     "name": "stdout",
     "output_type": "stream",
     "text": [
      "Collecting pybithumb\n",
      "  Using cached pybithumb-1.0.21-py3-none-any.whl (9.9 kB)\n",
      "Collecting websockets\n",
      "  Downloading websockets-10.2-cp39-cp39-win_amd64.whl (97 kB)\n",
      "Requirement already satisfied: pandas in c:\\users\\jinuk\\anaconda3\\lib\\site-packages (from pybithumb) (1.3.4)\n",
      "Collecting bs4\n",
      "  Downloading bs4-0.0.1.tar.gz (1.1 kB)\n",
      "Collecting datetime\n",
      "  Using cached DateTime-4.4-py2.py3-none-any.whl (51 kB)\n",
      "Requirement already satisfied: html5lib in c:\\users\\jinuk\\anaconda3\\lib\\site-packages (from pybithumb) (1.1)\n",
      "Requirement already satisfied: requests in c:\\users\\jinuk\\anaconda3\\lib\\site-packages (from pybithumb) (2.26.0)\n",
      "Requirement already satisfied: beautifulsoup4 in c:\\users\\jinuk\\anaconda3\\lib\\site-packages (from bs4->pybithumb) (4.10.0)\n",
      "Requirement already satisfied: soupsieve>1.2 in c:\\users\\jinuk\\anaconda3\\lib\\site-packages (from beautifulsoup4->bs4->pybithumb) (2.2.1)\n",
      "Requirement already satisfied: pytz in c:\\users\\jinuk\\anaconda3\\lib\\site-packages (from datetime->pybithumb) (2021.3)\n",
      "Requirement already satisfied: zope.interface in c:\\users\\jinuk\\anaconda3\\lib\\site-packages (from datetime->pybithumb) (5.4.0)\n",
      "Requirement already satisfied: six>=1.9 in c:\\users\\jinuk\\anaconda3\\lib\\site-packages (from html5lib->pybithumb) (1.16.0)\n",
      "Requirement already satisfied: webencodings in c:\\users\\jinuk\\anaconda3\\lib\\site-packages (from html5lib->pybithumb) (0.5.1)\n",
      "Requirement already satisfied: numpy>=1.17.3 in c:\\users\\jinuk\\anaconda3\\lib\\site-packages (from pandas->pybithumb) (1.20.3)\n",
      "Requirement already satisfied: python-dateutil>=2.7.3 in c:\\users\\jinuk\\anaconda3\\lib\\site-packages (from pandas->pybithumb) (2.8.2)\n",
      "Requirement already satisfied: certifi>=2017.4.17 in c:\\users\\jinuk\\anaconda3\\lib\\site-packages (from requests->pybithumb) (2021.10.8)\n",
      "Requirement already satisfied: idna<4,>=2.5 in c:\\users\\jinuk\\anaconda3\\lib\\site-packages (from requests->pybithumb) (3.2)\n",
      "Requirement already satisfied: urllib3<1.27,>=1.21.1 in c:\\users\\jinuk\\anaconda3\\lib\\site-packages (from requests->pybithumb) (1.26.7)\n",
      "Requirement already satisfied: charset-normalizer~=2.0.0 in c:\\users\\jinuk\\anaconda3\\lib\\site-packages (from requests->pybithumb) (2.0.4)\n",
      "Requirement already satisfied: setuptools in c:\\users\\jinuk\\anaconda3\\lib\\site-packages (from zope.interface->datetime->pybithumb) (58.0.4)\n",
      "Building wheels for collected packages: bs4\n",
      "  Building wheel for bs4 (setup.py): started\n",
      "  Building wheel for bs4 (setup.py): finished with status 'done'\n",
      "  Created wheel for bs4: filename=bs4-0.0.1-py3-none-any.whl size=1271 sha256=6d1fd577f404a54fe845a6b7434c359faee911c97a1da76a0128f809e9aaa159\n",
      "  Stored in directory: c:\\users\\jinuk\\appdata\\local\\pip\\cache\\wheels\\73\\2b\\cb\\099980278a0c9a3e57ff1a89875ec07bfa0b6fcbebb9a8cad3\n",
      "Successfully built bs4\n",
      "Installing collected packages: websockets, datetime, bs4, pybithumb\n",
      "Successfully installed bs4-0.0.1 datetime-4.4 pybithumb-1.0.21 websockets-10.2\n",
      "Note: you may need to restart the kernel to use updated packages.\n"
     ]
    }
   ],
   "source": [
    "pip install pybithumb"
   ]
  },
  {
   "cell_type": "code",
   "execution_count": null,
   "id": "e2f84e2d",
   "metadata": {},
   "outputs": [],
   "source": [
    "import sys                      # 하드웨어 접근 모듈\n",
    "from PyQt5.QtWidgets import *   # 파이큐티 관련 모듈\n",
    "from PyQt5 import uic           # ui 관련 모듈\n",
    "import pybithumb\n",
    "\n",
    "form_class=uic.loadUiType(\"day03.ui\")[0] # pyqt로 만든 ui 폼 불러오기\n",
    "tickers = [\"BTC\",\"ETH\",\"XRP\",\"ADA\"]\n",
    "\n",
    "class MyWindow(QMainWindow, form_class): # MyWindow 클래스를 상속받아서 작성\n",
    "    def __init__(self):                  # 생성자로 창 생성\n",
    "        super().__init__()               # 부모의 생성자를 이용\n",
    "        self.setupUi(self)               # ui 창 생성\n",
    "        self.pushButton.clicked.connect(self.btn_clicked) # 단추 클릭시 연결되는 메서드 정의\n",
    "\n",
    "    def btn_clicked(self):\n",
    "        for i, ticker in enumerate(tickers):\n",
    "            \n",
    "            item = QTableWidgetItem(ticker)\n",
    "            self.tableWidget.setItem(i,0, item)\n",
    "            \n",
    "            price = QTableWidgetItem(str(pybithumb.get_current_price(ticker)))\n",
    "            self.tableWidget.setItem(i,1, price)\n",
    "\n",
    "app = QApplication(sys.argv)             # 파이썬은 원래 인터프리터-> 한 줄씩 실행 후 창이 꺼져야 정상\n",
    "window = MyWindow()\n",
    "window.show()\n",
    "app.exec_()                              # 윈도우 창이 열린 상태로 계속 대기 유지로 만듬"
   ]
  },
  {
   "cell_type": "code",
   "execution_count": null,
   "id": "adbe4815",
   "metadata": {},
   "outputs": [],
   "source": []
  },
  {
   "cell_type": "code",
   "execution_count": null,
   "id": "f786cdd4",
   "metadata": {},
   "outputs": [],
   "source": []
  }
 ],
 "metadata": {
  "kernelspec": {
   "display_name": "Python 3 (ipykernel)",
   "language": "python",
   "name": "python3"
  },
  "language_info": {
   "codemirror_mode": {
    "name": "ipython",
    "version": 3
   },
   "file_extension": ".py",
   "mimetype": "text/x-python",
   "name": "python",
   "nbconvert_exporter": "python",
   "pygments_lexer": "ipython3",
   "version": "3.9.7"
  }
 },
 "nbformat": 4,
 "nbformat_minor": 5
}

{
 "cells": [
  {
   "cell_type": "code",
   "execution_count": 1,
   "id": "0afc186d",
   "metadata": {},
   "outputs": [
    {
     "name": "stdout",
     "output_type": "stream",
     "text": [
      "INFO: all zero 2001 row(s) are removed in X-axis\n",
      "INFO: all zero 1845 row(s) are removed in X-axis\n",
      "INFO: all zero 1205 row(s) are removed in X-axis\n",
      "INFO: all zero 468 row(s) are removed in X-axis\n",
      "INFO: all zero 2001 row(s) are removed in X-axis\n",
      "INFO: all zero 1845 row(s) are removed in X-axis\n",
      "INFO: all zero 1205 row(s) are removed in X-axis\n",
      "INFO: all zero 468 row(s) are removed in X-axis\n"
     ]
    },
    {
     "data": {
      "text/plain": [
       "0"
      ]
     },
     "execution_count": 1,
     "metadata": {},
     "output_type": "execute_result"
    }
   ],
   "source": [
    "import sys                      \n",
    "from PyQt5.QtWidgets import *   \n",
    "from PyQt5 import uic           \n",
    "from PyQt5.QtCore import *\n",
    "import pybithumb\n",
    "import pykorbit\n",
    "\n",
    "form_class=uic.loadUiType(\"day04.ui\")[0] \n",
    "tickers = [\"BTC\",\"ETH\",\"XRP\",\"ADA\"]\n",
    "\n",
    "class MyWindow(QMainWindow, form_class): \n",
    "    def __init__(self):                  \n",
    "        super().__init__()               \n",
    "        self.setupUi(self)              \n",
    "        timer = QTimer(self)\n",
    "        timer.start(5000)\n",
    "        timer.timeout.connect(self.timeout)\n",
    "    \n",
    "    def get_bithumb_infos(self, ticker):\n",
    "        df = pybithumb.get_ohlcv(ticker) # get_ohclv() 해당 코인의 다양한 정보를 가져온다.\n",
    "        ma5 = df['close'].rolling(window=5).mean() # 종가들을 5일씩 평균을 전부 계산\n",
    "        last_ma5 = ma5[-2] # 가장 최근 5일치의 평균만 추출\n",
    "        price = pybithumb.get_current_price(ticker) # 해당 코인의 현재가\n",
    "    \n",
    "        state = None\n",
    "        if price > last_ma5:\n",
    "            state = \"UP\"\n",
    "        else:\n",
    "            state = \"DOWN\"\n",
    "        return price, last_ma5, state\n",
    "    \n",
    "    def get_korbit_infos(self, ticker):\n",
    "        df = pykorbit.get_ohlc(ticker)\n",
    "        ma5 = df['close'].rolling(window=5).mean()\n",
    "        last_ma5 = ma5[-2]\n",
    "        price = pykorbit.get_current_price(ticker)\n",
    "        \n",
    "        state = None\n",
    "        if price > last_ma5:\n",
    "            state = \"UP\"\n",
    "        else:\n",
    "            state = \"DOWN\"\n",
    "        return price, last_ma5, state\n",
    "    \n",
    "    \n",
    "    def timeout(self):\n",
    "        for i, ticker in enumerate(tickers):\n",
    "            \n",
    "            item = QTableWidgetItem(ticker)\n",
    "            self.tableWidget.setItem(i,0, item)\n",
    "            price, last_ma5, state = self.get_bithumb_infos(ticker)\n",
    "            \n",
    "            self.tableWidget.setItem(i,1, QTableWidgetItem(str(price)))\n",
    "            self.tableWidget.setItem(i,2, QTableWidgetItem(str(last_ma5)))\n",
    "            self.tableWidget.setItem(i,3, QTableWidgetItem(state))\n",
    "            \n",
    "            item = QTableWidgetItem(ticker)\n",
    "            self.tableWidget_2.setItem(i,0, item)\n",
    "            price, last_ma5, state = self.get_korbit_infos(ticker)\n",
    "                \n",
    "            self.tableWidget_2.setItem(i,1, QTableWidgetItem(str(price)))\n",
    "            self.tableWidget_2.setItem(i,2, QTableWidgetItem(str(last_ma5)))\n",
    "            self.tableWidget_2.setItem(i,3, QTableWidgetItem(state))\n",
    "\n",
    "app = QApplication(sys.argv)             \n",
    "window = MyWindow()\n",
    "window.show()\n",
    "app.exec_() "
   ]
  },
  {
   "cell_type": "code",
   "execution_count": null,
   "id": "233b1f44",
   "metadata": {},
   "outputs": [],
   "source": []
  },
  {
   "cell_type": "code",
   "execution_count": null,
   "id": "45e2056c",
   "metadata": {},
   "outputs": [],
   "source": []
  }
 ],
 "metadata": {
  "kernelspec": {
   "display_name": "Python 3 (ipykernel)",
   "language": "python",
   "name": "python3"
  },
  "language_info": {
   "codemirror_mode": {
    "name": "ipython",
    "version": 3
   },
   "file_extension": ".py",
   "mimetype": "text/x-python",
   "name": "python",
   "nbconvert_exporter": "python",
   "pygments_lexer": "ipython3",
   "version": "3.9.7"
  }
 },
 "nbformat": 4,
 "nbformat_minor": 5
}

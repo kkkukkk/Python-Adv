{
 "cells": [
  {
   "cell_type": "code",
   "execution_count": 1,
   "id": "98806dff",
   "metadata": {},
   "outputs": [],
   "source": []
  },
  {
   "cell_type": "code",
   "execution_count": null,
   "id": "be225729",
   "metadata": {},
   "outputs": [
    {
     "name": "stdout",
     "output_type": "stream",
     "text": [
      "clicked\n",
      "clicked\n",
      "clicked\n",
      "clicked\n",
      "clicked\n",
      "clicked\n",
      "clicked\n",
      "clicked\n",
      "clicked\n"
     ]
    }
   ],
   "source": [
    "# 버튼이 동작하는 창\n",
    "import sys                      # 하드웨어 접근 모듈\n",
    "from PyQt5.QtWidgets import *   # 파이큐티 관련 모듈\n",
    "from PyQt5 import uic           # ui 관련 모듈\n",
    "\n",
    "\n",
    "form_class=uic.loadUiType(\"day02.ui\")[0] # pyqt로 만든 ui 폼 불러오기\n",
    "\n",
    "class MyWindow(QMainWindow, form_class): # MyWindow 클래스를 상속받아서 작성\n",
    "    def __init__(self):                  # 생성자로 창 생성\n",
    "        super().__init__()               # 부모의 생성자를 이용\n",
    "        self.setupUi(self)               # ui 창 생성\n",
    "        self.pushButton.clicked.connect(self.btn_clicked) # 단추 클릭시 연결되는 메서드 정의\n",
    "\n",
    "    def btn_clicked(self):\n",
    "        print(\"clicked\")\n",
    "\n",
    "app = QApplication(sys.argv)             # 파이썬은 원래 인터프리터-> 한 줄씩 실행 후 창이 꺼져야 정상\n",
    "window = MyWindow()\n",
    "window.show()\n",
    "app.exec_()                              # 윈도우 창이 열린 상태로 계속 대기 유지로 만듬"
   ]
  },
  {
   "cell_type": "code",
   "execution_count": null,
   "id": "33c233a6",
   "metadata": {},
   "outputs": [],
   "source": []
  }
 ],
 "metadata": {
  "kernelspec": {
   "display_name": "Python 3 (ipykernel)",
   "language": "python",
   "name": "python3"
  },
  "language_info": {
   "codemirror_mode": {
    "name": "ipython",
    "version": 3
   },
   "file_extension": ".py",
   "mimetype": "text/x-python",
   "name": "python",
   "nbconvert_exporter": "python",
   "pygments_lexer": "ipython3",
   "version": "3.9.7"
  }
 },
 "nbformat": 4,
 "nbformat_minor": 5
}

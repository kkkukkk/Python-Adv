{
 "cells": [
  {
   "cell_type": "code",
   "execution_count": 12,
   "metadata": {},
   "outputs": [
    {
     "ename": "ModuleNotFoundError",
     "evalue": "No module named 'PyQt5'",
     "output_type": "error",
     "traceback": [
      "\u001b[1;31m---------------------------------------------------------------------------\u001b[0m",
      "\u001b[1;31mModuleNotFoundError\u001b[0m                       Traceback (most recent call last)",
      "\u001b[1;32mc:\\eclipse\\Pythonadv\\day02.ipynb Cell 1'\u001b[0m in \u001b[0;36m<cell line: 2>\u001b[1;34m()\u001b[0m\n\u001b[0;32m      <a href='vscode-notebook-cell:/c%3A/eclipse/Pythonadv/day02.ipynb#ch0000000?line=0'>1</a>\u001b[0m \u001b[39mimport\u001b[39;00m \u001b[39msys\u001b[39;00m                      \u001b[39m# 하드웨어 접근 모듈\u001b[39;00m\n\u001b[1;32m----> <a href='vscode-notebook-cell:/c%3A/eclipse/Pythonadv/day02.ipynb#ch0000000?line=1'>2</a>\u001b[0m \u001b[39mfrom\u001b[39;00m \u001b[39mPyQt5\u001b[39;00m\u001b[39m.\u001b[39;00m\u001b[39mQtWidgets\u001b[39;00m \u001b[39mimport\u001b[39;00m \u001b[39m*\u001b[39m   \u001b[39m# 파이큐티 관련 모듈\u001b[39;00m\n\u001b[0;32m      <a href='vscode-notebook-cell:/c%3A/eclipse/Pythonadv/day02.ipynb#ch0000000?line=2'>3</a>\u001b[0m \u001b[39mfrom\u001b[39;00m \u001b[39mPyQt5\u001b[39;00m \u001b[39mimport\u001b[39;00m uic\n",
      "\u001b[1;31mModuleNotFoundError\u001b[0m: No module named 'PyQt5'"
     ]
    }
   ],
   "source": [
    "import sys                      # 하드웨어 접근 모듈\n",
    "from PyQt5.QtWidgets import *   # 파이큐티 관련 모듈\n",
    "from PyQt5 import uic           # ui 관련 모듈"
   ]
  },
  {
   "cell_type": "code",
   "execution_count": 10,
   "metadata": {},
   "outputs": [
    {
     "ename": "NameError",
     "evalue": "name 'uic' is not defined",
     "output_type": "error",
     "traceback": [
      "\u001b[1;31m---------------------------------------------------------------------------\u001b[0m",
      "\u001b[1;31mNameError\u001b[0m                                 Traceback (most recent call last)",
      "\u001b[1;32mc:\\eclipse\\Pythonadv\\day02.ipynb Cell 2'\u001b[0m in \u001b[0;36m<cell line: 3>\u001b[1;34m()\u001b[0m\n\u001b[0;32m      <a href='vscode-notebook-cell:/c%3A/eclipse/Pythonadv/day02.ipynb#ch0000001?line=0'>1</a>\u001b[0m \u001b[39m# 그냥 창 열기\u001b[39;00m\n\u001b[1;32m----> <a href='vscode-notebook-cell:/c%3A/eclipse/Pythonadv/day02.ipynb#ch0000001?line=2'>3</a>\u001b[0m form_class\u001b[39m=\u001b[39muic\u001b[39m.\u001b[39mloadUiType(\u001b[39m\"\u001b[39m\u001b[39mday02.ui\u001b[39m\u001b[39m\"\u001b[39m)[\u001b[39m0\u001b[39m] \u001b[39m# pyqt로 만든 ui 폼 불러오기\u001b[39;00m\n\u001b[0;32m      <a href='vscode-notebook-cell:/c%3A/eclipse/Pythonadv/day02.ipynb#ch0000001?line=4'>5</a>\u001b[0m \u001b[39mclass\u001b[39;00m \u001b[39mMyWindow\u001b[39;00m(QMainWindow, form_class): \u001b[39m# MyWindow 클래스를 상속받아서 작성\u001b[39;00m\n\u001b[0;32m      <a href='vscode-notebook-cell:/c%3A/eclipse/Pythonadv/day02.ipynb#ch0000001?line=5'>6</a>\u001b[0m     \u001b[39mdef\u001b[39;00m \u001b[39m__init__\u001b[39m(\u001b[39mself\u001b[39m):                  \u001b[39m# 생성자로 창 생성\u001b[39;00m\n",
      "\u001b[1;31mNameError\u001b[0m: name 'uic' is not defined"
     ]
    }
   ],
   "source": [
    "# 그냥 창 열기\n",
    "\n",
    "form_class=uic.loadUiType(\"day02.ui\")[0] # pyqt로 만든 ui 폼 불러오기\n",
    "\n",
    "class MyWindow(QMainWindow, form_class): # MyWindow 클래스를 상속받아서 작성\n",
    "    def __init__(self):                  # 생성자로 창 생성\n",
    "        super().__init__()               # 부모의 생성자를 이용\n",
    "        self.setupUi(self)               # ui 창 생성\n",
    "\n",
    "app = QApplication(sys.argv)             # 파이썬은 원래 인터프리터-> 한 줄씩 실행 후 창이 꺼져야 정상\n",
    "window = Mywindow()\n",
    "window.show()\n",
    "app.exec_()                              # 윈도우 창이 열린 상태로 계속 대기 유지로 만듬\n"
   ]
  },
  {
   "cell_type": "code",
   "execution_count": null,
   "metadata": {},
   "outputs": [],
   "source": [
    "# 버튼이 동작하는 창\n",
    "\n",
    "form_class=uic.loadUiType(\"day02.ui\")[0] # pyqt로 만든 ui 폼 불러오기\n",
    "\n",
    "class MyWindow(QMainWindow, form_class): # MyWindow 클래스를 상속받아서 작성\n",
    "    def __init__(self):                  # 생성자로 창 생성\n",
    "        super().__init__()               # 부모의 생성자를 이용\n",
    "        self.setupUi(self)               # ui 창 생성\n",
    "        self.pushButton.clicked.connect(self.btn_clicked) # 단추 클릭시 연결되는 메서드 정의\n",
    "\n",
    "    def btn_clicked(self):\n",
    "        print(\"clicked\")\n",
    "\n",
    "app = QApplication(sys.argv)             # 파이썬은 원래 인터프리터-> 한 줄씩 실행 후 창이 꺼져야 정상\n",
    "window = MyWindow()\n",
    "window.show()\n",
    "app.exec_()                              # 윈도우 창이 열린 상태로 계속 대기 유지로 만듬\n"
   ]
  }
 ],
 "metadata": {
  "interpreter": {
   "hash": "e8c68624c2353e03e6a34d2922aa2994f7aceb09662b9ae7f1b2b8ba0da4c340"
  },
  "kernelspec": {
   "display_name": "Python 3.9.12 64-bit (windows store)",
   "language": "python",
   "name": "python3"
  },
  "language_info": {
   "codemirror_mode": {
    "name": "ipython",
    "version": 3
   },
   "file_extension": ".py",
   "mimetype": "text/x-python",
   "name": "python",
   "nbconvert_exporter": "python",
   "pygments_lexer": "ipython3",
   "version": "3.9.12"
  },
  "orig_nbformat": 4
 },
 "nbformat": 4,
 "nbformat_minor": 2
}
